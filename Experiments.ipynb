{
  "nbformat": 4,
  "nbformat_minor": 0,
  "metadata": {
    "kernelspec": {
      "display_name": "Python 3",
      "language": "python",
      "name": "python3"
    },
    "language_info": {
      "codemirror_mode": {
        "name": "ipython",
        "version": 3
      },
      "file_extension": ".py",
      "mimetype": "text/x-python",
      "name": "python",
      "nbconvert_exporter": "python",
      "pygments_lexer": "ipython3",
      "version": "3.7.4"
    },
    "colab": {
      "name": "Experiments.ipynb",
      "provenance": [],
      "toc_visible": true
    },
    "accelerator": "GPU"
  },
  "cells": [
    {
      "cell_type": "code",
      "metadata": {
        "id": "evsYR2_Jt7Gf",
        "colab_type": "code",
        "colab": {}
      },
      "source": [
        "%matplotlib inline\n",
        "import torch\n",
        "import matplotlib.pyplot as plt"
      ],
      "execution_count": 1,
      "outputs": []
    },
    {
      "cell_type": "code",
      "metadata": {
        "id": "8DwCK09S8YUx",
        "colab_type": "code",
        "colab": {
          "base_uri": "https://localhost:8080/",
          "height": 139
        },
        "outputId": "30c288a9-4b74-4d0e-e094-29599739639d"
      },
      "source": [
        "!git clone https://github.com/JoseVillagranE/Pointer-Networks.git"
      ],
      "execution_count": 2,
      "outputs": [
        {
          "output_type": "stream",
          "text": [
            "Cloning into 'Pointer-Networks'...\n",
            "remote: Enumerating objects: 215, done.\u001b[K\n",
            "remote: Counting objects: 100% (215/215), done.\u001b[K\n",
            "remote: Compressing objects: 100% (134/134), done.\u001b[K\n",
            "remote: Total 215 (delta 120), reused 174 (delta 79), pack-reused 0\u001b[K\n",
            "Receiving objects: 100% (215/215), 4.40 MiB | 18.56 MiB/s, done.\n",
            "Resolving deltas: 100% (120/120), done.\n"
          ],
          "name": "stdout"
        }
      ]
    },
    {
      "cell_type": "code",
      "metadata": {
        "id": "8LVrHLah8ekg",
        "colab_type": "code",
        "colab": {
          "base_uri": "https://localhost:8080/",
          "height": 35
        },
        "outputId": "5141961b-2919-4edf-fb43-71bfc1624d26"
      },
      "source": [
        "cd Pointer-Networks/"
      ],
      "execution_count": 3,
      "outputs": [
        {
          "output_type": "stream",
          "text": [
            "/content/Pointer-Networks\n"
          ],
          "name": "stdout"
        }
      ]
    },
    {
      "cell_type": "code",
      "metadata": {
        "id": "WpeNhY6u8h7Y",
        "colab_type": "code",
        "colab": {
          "base_uri": "https://localhost:8080/",
          "height": 124
        },
        "outputId": "75b794ed-9438-489b-e34d-477c45810ec6"
      },
      "source": [
        "from google.colab import drive\n",
        "drive.mount('/content/drive')"
      ],
      "execution_count": 4,
      "outputs": [
        {
          "output_type": "stream",
          "text": [
            "Go to this URL in a browser: https://accounts.google.com/o/oauth2/auth?client_id=947318989803-6bn6qk8qdgf4n4g3pfee6491hc0brc4i.apps.googleusercontent.com&redirect_uri=urn%3aietf%3awg%3aoauth%3a2.0%3aoob&scope=email%20https%3a%2f%2fwww.googleapis.com%2fauth%2fdocs.test%20https%3a%2f%2fwww.googleapis.com%2fauth%2fdrive%20https%3a%2f%2fwww.googleapis.com%2fauth%2fdrive.photos.readonly%20https%3a%2f%2fwww.googleapis.com%2fauth%2fpeopleapi.readonly&response_type=code\n",
            "\n",
            "Enter your authorization code:\n",
            "··········\n",
            "Mounted at /content/drive\n"
          ],
          "name": "stdout"
        }
      ]
    },
    {
      "cell_type": "code",
      "metadata": {
        "id": "AiCSpr_Kt7G0",
        "colab_type": "code",
        "colab": {}
      },
      "source": [
        "from dataset import CHDataset\n",
        "from convex_hull import training, eval_one_example, eval_model, PlotLossCurve\n",
        "from pointer_network import PointerNet, PointerNetLoss\n",
        "from TSPDataset import TSPDataset"
      ],
      "execution_count": 5,
      "outputs": []
    },
    {
      "cell_type": "code",
      "metadata": {
        "id": "UyhzMreJt7HA",
        "colab_type": "code",
        "colab": {},
        "outputId": "080f8e74-218c-4ebe-b21f-5f1ce387d739"
      },
      "source": [
        "train_filename=\"./data/convex_hull_50_train.txt\" \n",
        "val_filename = \"./data/convex_hull_50_test.txt\"\n",
        "\n",
        "max_in_seq_len=50\n",
        "max_out_seq_len=11\n",
        "num_layers = 1\n",
        "rnn_hidden_size = 32\n",
        "\n",
        "model = PointerNet(\"LSTM\", True, num_layers, 2, rnn_hidden_size, 0.0)\n",
        "\n",
        "train_ds = CHDataset(train_filename, max_in_seq_len, max_out_seq_len, 2e4)\n",
        "eval_ds = CHDataset(val_filename, max_in_seq_len, max_out_seq_len, 1e3)\n",
        "\n",
        "print(\"Train data size: {}\".format(len(train_ds)))\n",
        "print(\"Eval data size: {}\".format(len(eval_ds)))"
      ],
      "execution_count": null,
      "outputs": [
        {
          "output_type": "stream",
          "text": [
            "Train data size: 20000\n",
            "Eval data size: 1000\n"
          ],
          "name": "stdout"
        }
      ]
    },
    {
      "cell_type": "code",
      "metadata": {
        "id": "B892SmEwt7HK",
        "colab_type": "code",
        "colab": {},
        "outputId": "be7ffe91-c7b4-49c2-c40a-df95ff1fac8f"
      },
      "source": [
        "cudaAvailable = torch.cuda.is_available()\n",
        "print(cudaAvailable)"
      ],
      "execution_count": null,
      "outputs": [
        {
          "output_type": "stream",
          "text": [
            "True\n"
          ],
          "name": "stdout"
        }
      ]
    },
    {
      "cell_type": "code",
      "metadata": {
        "id": "TavIVnp3t7HQ",
        "colab_type": "code",
        "colab": {},
        "outputId": "ba21f472-a00c-4770-e25b-25a8a6a0de53"
      },
      "source": [
        "TrainingLoss, EvalLoss = training(model, train_ds, eval_ds, cudaAvailable, nepoch=30, freqEval=5)"
      ],
      "execution_count": null,
      "outputs": [
        {
          "output_type": "stream",
          "text": [
            "D:\\matricula u chile 2015\\12 semestre\\Trabajo_dirigido\\Diego\\codigo\\PointerNetwork\\convex_hull.py:179: UserWarning: torch.nn.utils.clip_grad_norm is now deprecated in favor of torch.nn.utils.clip_grad_norm_.\n",
            "  clip_grad_norm(model.parameters(), clip_norm)\n"
          ],
          "name": "stderr"
        },
        {
          "output_type": "stream",
          "text": [
            "Epoch : 0, loss 1.2182404302954675\n",
            "Epoch: 0, Eval Loss 0.847038919955492\n",
            "Epoch : 1, loss 0.7536873981356621\n",
            "Epoch : 2, loss 0.6485088189959526\n",
            "Epoch : 3, loss 0.5945986782364547\n",
            "Epoch : 4, loss 0.562306798107177\n",
            "Epoch : 5, loss 0.5397270621664823\n",
            "Epoch: 5, Eval Loss 0.5331619176417589\n",
            "Epoch : 6, loss 0.5234544403932989\n",
            "Epoch : 7, loss 0.5105805751189589\n",
            "Epoch : 8, loss 0.49935362021774055\n",
            "Epoch : 9, loss 0.4892207261778414\n",
            "Epoch : 10, loss 0.4808284835468978\n",
            "Epoch: 10, Eval Loss 0.48039661985635757\n",
            "Epoch : 11, loss 0.4738201278757304\n",
            "Epoch : 12, loss 0.46737350049242377\n",
            "Epoch : 13, loss 0.4614636353302747\n",
            "Epoch : 14, loss 0.45638306415714325\n",
            "Epoch : 15, loss 0.45159429302960635\n",
            "Epoch: 15, Eval Loss 0.4519965361952782\n",
            "Epoch : 16, loss 0.4470672408375889\n",
            "Epoch : 17, loss 0.4431911987382919\n",
            "Epoch : 18, loss 0.43981190046072005\n",
            "Epoch : 19, loss 0.4368873704716563\n",
            "Epoch : 20, loss 0.4341901934798807\n",
            "Epoch: 20, Eval Loss 0.4359943869113922\n",
            "Epoch : 21, loss 0.43176953313201666\n",
            "Epoch : 22, loss 0.4294836932364851\n",
            "Epoch : 23, loss 0.4274387739356607\n",
            "Epoch : 24, loss 0.42536472373716533\n",
            "Epoch : 25, loss 0.42352728792726996\n",
            "Epoch: 25, Eval Loss 0.42601712131500247\n",
            "Epoch : 26, loss 0.4217539263639599\n",
            "Epoch : 27, loss 0.42010099134147166\n",
            "Epoch : 28, loss 0.41860588164702056\n",
            "Epoch : 29, loss 0.4171682669941336\n",
            "Training of Pointer Network takes: 14564.80404496193\n"
          ],
          "name": "stdout"
        }
      ]
    },
    {
      "cell_type": "code",
      "metadata": {
        "id": "cyGe53XCt7HY",
        "colab_type": "code",
        "colab": {},
        "outputId": "17da6724-8f7c-4995-943e-05984161aba3"
      },
      "source": [
        "hours, rem = divmod(14564.804045, 3600)\n",
        "minutes, seconds = divmod(rem, 60)\n",
        "\n",
        "print(\"Training of Pointer Networks takes: {:0>2}:{:0>2}:{:05.2f}\".format(int(hours), int(minutes), seconds))"
      ],
      "execution_count": null,
      "outputs": [
        {
          "output_type": "stream",
          "text": [
            "Training of Pointer Networks takes: 04:02:44.80\n"
          ],
          "name": "stdout"
        }
      ]
    },
    {
      "cell_type": "code",
      "metadata": {
        "id": "SQAIIEWPt7Hl",
        "colab_type": "code",
        "colab": {},
        "outputId": "4dffc5e5-596a-40c1-be57-18de43d70644"
      },
      "source": [
        "model.load_state_dict(torch.load(\"PointerModel.pt\"))"
      ],
      "execution_count": null,
      "outputs": [
        {
          "output_type": "execute_result",
          "data": {
            "text/plain": [
              "<All keys matched successfully>"
            ]
          },
          "metadata": {
            "tags": []
          },
          "execution_count": 6
        }
      ]
    },
    {
      "cell_type": "code",
      "metadata": {
        "id": "5q1rNH_-t7Hu",
        "colab_type": "code",
        "colab": {},
        "outputId": "a34d68da-a3b4-48eb-9729-f9b4a9d3d5c1"
      },
      "source": [
        "eval_model(model, train_ds, cudaAvailable)"
      ],
      "execution_count": null,
      "outputs": [
        {
          "output_type": "stream",
          "text": [
            "The Accuracy of the model is: 0.42635\n"
          ],
          "name": "stdout"
        }
      ]
    },
    {
      "cell_type": "code",
      "metadata": {
        "id": "vJTvmNuxt7H1",
        "colab_type": "code",
        "colab": {},
        "outputId": "9f61007a-2837-4d7f-abbd-6ca7ed71a495"
      },
      "source": [
        "eval_model(model, eval_ds, cudaAvailable)"
      ],
      "execution_count": null,
      "outputs": [
        {
          "output_type": "stream",
          "text": [
            "The Accuracy of the model is: 0.421\n"
          ],
          "name": "stdout"
        }
      ]
    },
    {
      "cell_type": "code",
      "metadata": {
        "id": "4_qXeiqht7H9",
        "colab_type": "code",
        "colab": {},
        "outputId": "1c3c22b6-f846-4e9f-d831-9d13cfac9a8f"
      },
      "source": [
        "example = train_ds.__getitem__(0)\n",
        "print(example[0].shape)"
      ],
      "execution_count": null,
      "outputs": [
        {
          "output_type": "stream",
          "text": [
            "(51, 2)\n"
          ],
          "name": "stdout"
        }
      ]
    },
    {
      "cell_type": "code",
      "metadata": {
        "id": "agjhxRmHt7Jj",
        "colab_type": "code",
        "colab": {},
        "outputId": "0150b8d8-b6cf-4e6d-9e46-5f46f1cb6a4f"
      },
      "source": [
        "PlotLossCurve(TrainingLoss, \"Training_Loss\", shape = (10, 10))"
      ],
      "execution_count": null,
      "outputs": [
        {
          "output_type": "display_data",
          "data": {
            "image/png": "[encoded data removed]",
            "text/plain": [
              "<Figure size 432x288 with 1 Axes>"
            ]
          },
          "metadata": {
            "tags": [],
            "needs_background": "light"
          }
        }
      ]
    },
    {
      "cell_type": "code",
      "metadata": {
        "id": "aqjRsekHt7Ju",
        "colab_type": "code",
        "colab": {},
        "outputId": "dd727305-03b2-4cac-83f5-028a06011ae7"
      },
      "source": [
        "PlotLossCurve(EvalLoss, \"Evaluation Loss\", shape=(10, 10))"
      ],
      "execution_count": null,
      "outputs": [
        {
          "output_type": "display_data",
          "data": {
            "image/png": "[encoded data removed]",
            "text/plain": [
              "<Figure size 432x288 with 1 Axes>"
            ]
          },
          "metadata": {
            "tags": [],
            "needs_background": "light"
          }
        }
      ]
    },
    {
      "cell_type": "markdown",
      "metadata": {
        "id": "tojgtbh-t7J3",
        "colab_type": "text"
      },
      "source": [
        "### TSP Supervised"
      ]
    },
    {
      "cell_type": "code",
      "metadata": {
        "id": "qMW86U4It7J4",
        "colab_type": "code",
        "colab": {}
      },
      "source": [
        "seq_len = 5\n",
        "num_layers = 1\n",
        "encoder_input_size = 2 \n",
        "rnn_hidden_size = 32\n",
        "save_model_name = \"PointerModel_Sup_5_th.pt\"\n",
        "batch_size = 128\n",
        "bidirectional = True\n",
        "rnn_type = \"LSTM\"\n",
        "embedding_dim = encoder_input_size # Supervised learning not working w/ embeddings\n",
        "attn_type = \"Sup\"\n",
        "C = None\n",
        "training_type = \"Sup\"\n",
        "nepoch = 20\n",
        "lr = 1e-2\n",
        "Teaching_Forcing = 0.0\n",
        "freqEval = 2\n"
      ],
      "execution_count": 17,
      "outputs": []
    },
    {
      "cell_type": "code",
      "metadata": {
        "id": "SxgTl3Mxt7KD",
        "colab_type": "code",
        "colab": {
          "base_uri": "https://localhost:8080/",
          "height": 52
        },
        "outputId": "946b90b0-8e3c-47d3-db64-35b85b461775"
      },
      "source": [
        "train_filename=\"../drive/My Drive/CH_TSP_data/tsp5.txt\" \n",
        "val_filename = \"../drive/My Drive/CH_TSP_data/tsp5_test.txt\"\n",
        "cudaAvailable = torch.cuda.is_available()\n",
        "\n",
        "train_ds = TSPDataset(train_filename, seq_len, training_type, lineCountLimit=-1)\n",
        "eval_ds = TSPDataset(val_filename, seq_len, training_type, lineCountLimit=-1)\n",
        "    \n",
        "print(\"Train data size: {}\".format(len(train_ds)))\n",
        "print(\"Eval data size: {}\".format(len(eval_ds)))"
      ],
      "execution_count": 7,
      "outputs": [
        {
          "output_type": "stream",
          "text": [
            "Train data size: 1000000\n",
            "Eval data size: 10000\n"
          ],
          "name": "stdout"
        }
      ]
    },
    {
      "cell_type": "code",
      "metadata": {
        "id": "8pcYRZxI9VED",
        "colab_type": "code",
        "colab": {
          "base_uri": "https://localhost:8080/",
          "height": 193
        },
        "outputId": "0fe2ff37-aaad-42c9-aaa3-70b5439165bb"
      },
      "source": [
        "!pip install tensorboardX"
      ],
      "execution_count": 8,
      "outputs": [
        {
          "output_type": "stream",
          "text": [
            "Collecting tensorboardX\n",
            "\u001b[?25l  Downloading https://files.pythonhosted.org/packages/af/0c/4f41bcd45db376e6fe5c619c01100e9b7531c55791b7244815bac6eac32c/tensorboardX-2.1-py2.py3-none-any.whl (308kB)\n",
            "\r\u001b[K     |█                               | 10kB 15.9MB/s eta 0:00:01\r\u001b[K     |██▏                             | 20kB 2.2MB/s eta 0:00:01\r\u001b[K     |███▏                            | 30kB 2.7MB/s eta 0:00:01\r\u001b[K     |████▎                           | 40kB 3.1MB/s eta 0:00:01\r\u001b[K     |█████▎                          | 51kB 2.6MB/s eta 0:00:01\r\u001b[K     |██████▍                         | 61kB 2.8MB/s eta 0:00:01\r\u001b[K     |███████▍                        | 71kB 3.1MB/s eta 0:00:01\r\u001b[K     |████████▌                       | 81kB 3.3MB/s eta 0:00:01\r\u001b[K     |█████████▌                      | 92kB 3.6MB/s eta 0:00:01\r\u001b[K     |██████████▋                     | 102kB 3.4MB/s eta 0:00:01\r\u001b[K     |███████████▊                    | 112kB 3.4MB/s eta 0:00:01\r\u001b[K     |████████████▊                   | 122kB 3.4MB/s eta 0:00:01\r\u001b[K     |█████████████▉                  | 133kB 3.4MB/s eta 0:00:01\r\u001b[K     |██████████████▉                 | 143kB 3.4MB/s eta 0:00:01\r\u001b[K     |████████████████                | 153kB 3.4MB/s eta 0:00:01\r\u001b[K     |█████████████████               | 163kB 3.4MB/s eta 0:00:01\r\u001b[K     |██████████████████              | 174kB 3.4MB/s eta 0:00:01\r\u001b[K     |███████████████████             | 184kB 3.4MB/s eta 0:00:01\r\u001b[K     |████████████████████▏           | 194kB 3.4MB/s eta 0:00:01\r\u001b[K     |█████████████████████▎          | 204kB 3.4MB/s eta 0:00:01\r\u001b[K     |██████████████████████▎         | 215kB 3.4MB/s eta 0:00:01\r\u001b[K     |███████████████████████▍        | 225kB 3.4MB/s eta 0:00:01\r\u001b[K     |████████████████████████▍       | 235kB 3.4MB/s eta 0:00:01\r\u001b[K     |█████████████████████████▌      | 245kB 3.4MB/s eta 0:00:01\r\u001b[K     |██████████████████████████▌     | 256kB 3.4MB/s eta 0:00:01\r\u001b[K     |███████████████████████████▋    | 266kB 3.4MB/s eta 0:00:01\r\u001b[K     |████████████████████████████▋   | 276kB 3.4MB/s eta 0:00:01\r\u001b[K     |█████████████████████████████▊  | 286kB 3.4MB/s eta 0:00:01\r\u001b[K     |██████████████████████████████▊ | 296kB 3.4MB/s eta 0:00:01\r\u001b[K     |███████████████████████████████▉| 307kB 3.4MB/s eta 0:00:01\r\u001b[K     |████████████████████████████████| 317kB 3.4MB/s \n",
            "\u001b[?25hRequirement already satisfied: six in /usr/local/lib/python3.6/dist-packages (from tensorboardX) (1.15.0)\n",
            "Requirement already satisfied: numpy in /usr/local/lib/python3.6/dist-packages (from tensorboardX) (1.18.5)\n",
            "Requirement already satisfied: protobuf>=3.8.0 in /usr/local/lib/python3.6/dist-packages (from tensorboardX) (3.12.4)\n",
            "Requirement already satisfied: setuptools in /usr/local/lib/python3.6/dist-packages (from protobuf>=3.8.0->tensorboardX) (49.6.0)\n",
            "Installing collected packages: tensorboardX\n",
            "Successfully installed tensorboardX-2.1\n"
          ],
          "name": "stdout"
        }
      ]
    },
    {
      "cell_type": "code",
      "metadata": {
        "id": "B6DXnIiNt7KO",
        "colab_type": "code",
        "colab": {}
      },
      "source": [
        "from TSP import weights_init\n",
        "model = PointerNet(rnn_type, bidirectional, num_layers, embedding_dim, rnn_hidden_size, 0, batch_size, attn_type=attn_type, C=C)\n",
        "weights_init(model)"
      ],
      "execution_count": 18,
      "outputs": []
    },
    {
      "cell_type": "code",
      "metadata": {
        "id": "X-SRlqgJt7Kn",
        "colab_type": "code",
        "colab": {
          "base_uri": "https://localhost:8080/",
          "height": 537
        },
        "outputId": "a1dabe3e-6185-4cd8-b620-269a81634a85"
      },
      "source": [
        "from TSP import training\n",
        "TrainingLoss, EvalLoss, Valid_Tours, Valid_Tours_Eval = training(model, train_ds, eval_ds, cudaAvailable, nepoch=nepoch, \n",
        "                                       model_file=save_model_name, batchSize=batch_size, lr=lr,\n",
        "                                       freqEval=freqEval, Teaching_Forcing=Teaching_Forcing)"
      ],
      "execution_count": 19,
      "outputs": [
        {
          "output_type": "stream",
          "text": [
            "Epoch : 0 || loss : 0.708 || Valid Tours : 0.269\n",
            "Epoch : 1 || loss : 0.563 || Valid Tours : 0.540\n",
            "Epoch : 2 || loss : 0.546 || Valid Tours : 0.613\n",
            "Epoch: 2 || Eval Loss : 0.535 || Eval Valid Tours : 0.664\n",
            "Epoch : 3 || loss : 0.538 || Valid Tours : 0.645\n",
            "Epoch : 4 || loss : 0.533 || Valid Tours : 0.664\n",
            "Epoch: 4 || Eval Loss : 0.526 || Eval Valid Tours : 0.703\n",
            "Epoch : 5 || loss : 0.529 || Valid Tours : 0.678\n",
            "Epoch : 6 || loss : 0.526 || Valid Tours : 0.686\n",
            "Epoch: 6 || Eval Loss : 0.524 || Eval Valid Tours : 0.711\n",
            "Epoch : 7 || loss : 0.525 || Valid Tours : 0.690\n",
            "Epoch : 8 || loss : 0.522 || Valid Tours : 0.698\n",
            "Epoch: 8 || Eval Loss : 0.522 || Eval Valid Tours : 0.716\n",
            "Epoch : 9 || loss : 0.521 || Valid Tours : 0.703\n",
            "Epoch : 10 || loss : 0.520 || Valid Tours : 0.706\n",
            "Epoch: 10 || Eval Loss : 0.520 || Eval Valid Tours : 0.725\n",
            "Epoch : 11 || loss : 0.519 || Valid Tours : 0.709\n",
            "Epoch : 12 || loss : 0.518 || Valid Tours : 0.712\n",
            "Epoch: 12 || Eval Loss : 0.519 || Eval Valid Tours : 0.724\n",
            "Epoch : 13 || loss : 0.517 || Valid Tours : 0.715\n",
            "Epoch : 14 || loss : 0.516 || Valid Tours : 0.717\n",
            "Epoch: 14 || Eval Loss : 0.518 || Eval Valid Tours : 0.736\n",
            "Epoch : 15 || loss : 0.515 || Valid Tours : 0.719\n",
            "Epoch : 16 || loss : 0.514 || Valid Tours : 0.721\n",
            "Epoch: 16 || Eval Loss : 0.516 || Eval Valid Tours : 0.743\n",
            "Epoch : 17 || loss : 0.514 || Valid Tours : 0.722\n",
            "Epoch : 18 || loss : 0.513 || Valid Tours : 0.724\n",
            "Epoch: 18 || Eval Loss : 0.516 || Eval Valid Tours : 0.752\n",
            "Epoch : 19 || loss : 0.513 || Valid Tours : 0.724\n",
            "Training of Pointer Networks takes: 01:42:26.19\n"
          ],
          "name": "stdout"
        }
      ]
    },
    {
      "cell_type": "code",
      "metadata": {
        "id": "0eBkzZaAt7Ky",
        "colab_type": "code",
        "colab": {
          "base_uri": "https://localhost:8080/",
          "height": 661
        },
        "outputId": "4f5ce697-046d-4595-8d6e-a7af4b4bceb3"
      },
      "source": [
        "from TSP import eval_model\n",
        "eval_model(model, eval_ds, cudaAvailable, n_plt_tours=9, n_cols=3)"
      ],
      "execution_count": 37,
      "outputs": [
        {
          "output_type": "stream",
          "text": [
            "The Accuracy of the model is: 0.4885\n",
            "Number of Invalid Tours: 2472\n",
            "Total Number of Tours: 10000\n",
            "Avg Tour Length: 2.748\n"
          ],
          "name": "stdout"
        },
        {
          "output_type": "display_data",
          "data": {
            "image/png": "[encoded data removed]",
            "text/plain": [
              "<Figure size 720x720 with 9 Axes>"
            ]
          },
          "metadata": {
            "tags": [],
            "needs_background": "light"
          }
        }
      ]
    },
    {
      "cell_type": "code",
      "metadata": {
        "id": "DIQxB7B3_-N6",
        "colab_type": "code",
        "colab": {
          "base_uri": "https://localhost:8080/",
          "height": 296
        },
        "outputId": "f69527dd-94b2-453f-eae8-1386605285aa"
      },
      "source": [
        "import numpy as np\n",
        "plt.plot(range(len(TrainingLoss)), TrainingLoss, label=\"Training\")\n",
        "EvalLoss_x = np.linspace(2, 20, num=len(EvalLoss))\n",
        "plt.plot(EvalLoss_x, EvalLoss, label=\"Validation\")\n",
        "plt.legend()\n",
        "plt.xlabel(\"epochs\", fontsize=10)\n",
        "plt.ylabel(\"Loss\", fontsize=10)\n",
        "plt.title(\"Pointer-Network Loss\", fontsize=14)\n",
        "plt.show()"
      ],
      "execution_count": 34,
      "outputs": [
        {
          "output_type": "display_data",
          "data": {
            "image/png": "[encoded data removed]",
            "text/plain": [
              "<Figure size 432x288 with 1 Axes>"
            ]
          },
          "metadata": {
            "tags": [],
            "needs_background": "light"
          }
        }
      ]
    },
    {
      "cell_type": "code",
      "metadata": {
        "id": "x5oGipQbB2qr",
        "colab_type": "code",
        "colab": {
          "base_uri": "https://localhost:8080/",
          "height": 299
        },
        "outputId": "6aae0f09-10ec-4f6b-8faf-73d49ce71ccc"
      },
      "source": [
        "plt.plot(range(len(Valid_Tours)), Valid_Tours, label=\"Training\")\n",
        "Valid_Tours_Eval_x = np.linspace(2, 20, num=len(Valid_Tours_Eval))\n",
        "plt.plot(Valid_Tours_Eval_x, Valid_Tours_Eval, label=\"Validation\")\n",
        "plt.legend()\n",
        "plt.xlabel(\"Epochs\", fontsize=12)\n",
        "plt.ylabel(\"Ratio\", fontsize=12)\n",
        "plt.title(\"Ratio of Valid Tours\", fontsize=14)\n",
        "plt.show()"
      ],
      "execution_count": 36,
      "outputs": [
        {
          "output_type": "display_data",
          "data": {
            "image/png": "[encoded data removed]",
            "text/plain": [
              "<Figure size 432x288 with 1 Axes>"
            ]
          },
          "metadata": {
            "tags": [],
            "needs_background": "light"
          }
        }
      ]
    },
    {
      "cell_type": "markdown",
      "metadata": {
        "id": "zSJ5qsyVt7K8",
        "colab_type": "text"
      },
      "source": [
        "## RL training"
      ]
    },
    {
      "cell_type": "code",
      "metadata": {
        "id": "APf9JCNOt7K9",
        "colab_type": "code",
        "colab": {}
      },
      "source": [
        "from RLtraining import NeuronalOptm"
      ],
      "execution_count": null,
      "outputs": []
    },
    {
      "cell_type": "code",
      "metadata": {
        "id": "1mL5zkK9t7LG",
        "colab_type": "code",
        "colab": {}
      },
      "source": [
        "seq_len = 20\n",
        "num_layers = 1 # Se procesa con sola una celula por coordenada. \n",
        "input_lenght = 2 \n",
        "rnn_hidden_size = 128\n",
        "rnn_type = 'LSTM'\n",
        "bidirectional = False\n",
        "hidden_dim_critic = rnn_hidden_size\n",
        "process_block_iter = 3\n",
        "inp_len_seq = seq_len\n",
        "lr = 1e-3\n",
        "C = 1\n",
        "batch_size = 128\n",
        "n_epoch = 50\n",
        "embedding_dim = 128 #d-dimensional embedding dim\n",
        "embedding_dim_critic = embedding_dim\n",
        "\n",
        "save_model_file=\"RLPointerModel_TSP20.pt\""
      ],
      "execution_count": null,
      "outputs": []
    },
    {
      "cell_type": "code",
      "metadata": {
        "id": "9kxVwgEyt7LP",
        "colab_type": "code",
        "colab": {},
        "outputId": "514c56e2-428a-45bd-fb1a-3534f2e8af1f"
      },
      "source": [
        "train_filename=\"./CH_TSP_data/tsp_all_len20.txt\" \n",
        "val_filename = \"./CH_TSP_data/tsp_20_test.txt\"\n",
        "\n",
        "train_ds = TSPDataset(train_filename, seq_len, lineCountLimit=-1)\n",
        "eval_ds = TSPDataset(val_filename, seq_len, lineCountLimit=-1)\n",
        "    \n",
        "print(\"Train data size: {}\".format(len(train_ds)))\n",
        "print(\"Eval data size: {}\".format(len(eval_ds)))"
      ],
      "execution_count": null,
      "outputs": [
        {
          "output_type": "stream",
          "text": [
            "Train data size: 100000\n",
            "Eval data size: 10000\n"
          ],
          "name": "stdout"
        }
      ]
    },
    {
      "cell_type": "code",
      "metadata": {
        "id": "XdivF4ZUt7LW",
        "colab_type": "code",
        "colab": {}
      },
      "source": [
        "trainer = NeuronalOptm(input_lenght, rnn_type, bidirectional, num_layers, rnn_hidden_size, \n",
        "                           embedding_dim, hidden_dim_critic, process_block_iter, inp_len_seq, lr, \n",
        "                           C=C, batch_size=batch_size)"
      ],
      "execution_count": null,
      "outputs": []
    },
    {
      "cell_type": "code",
      "metadata": {
        "id": "irlYiwQDt7Lb",
        "colab_type": "code",
        "colab": {},
        "outputId": "d0fe2d23-6e55-40c6-8452-cc9638d871e5"
      },
      "source": [
        "Actor_Training_Loss, Critic_Training_Loss, Tour_training_mean = trainer.training(train_ds, eval_ds,\n",
        "                                                                                     save_model_file=save_model_file,\n",
        "                                                                                     nepoch=n_epoch)"
      ],
      "execution_count": null,
      "outputs": [
        {
          "output_type": "error",
          "ename": "KeyboardInterrupt",
          "evalue": "",
          "traceback": [
            "\u001b[1;31m---------------------------------------------------------------------------\u001b[0m",
            "\u001b[1;31mKeyboardInterrupt\u001b[0m                         Traceback (most recent call last)",
            "\u001b[1;32m<ipython-input-7-48c93f17daaf>\u001b[0m in \u001b[0;36m<module>\u001b[1;34m\u001b[0m\n\u001b[0;32m      1\u001b[0m Actor_Training_Loss, Critic_Training_Loss, Tour_training_mean = trainer.training(train_ds, eval_ds,\n\u001b[0;32m      2\u001b[0m                                                                                      \u001b[0msave_model_file\u001b[0m\u001b[1;33m=\u001b[0m\u001b[0msave_model_file\u001b[0m\u001b[1;33m,\u001b[0m\u001b[1;33m\u001b[0m\u001b[1;33m\u001b[0m\u001b[0m\n\u001b[1;32m----> 3\u001b[1;33m                                                                                      nepoch=n_epoch)\n\u001b[0m",
            "\u001b[1;32mD:\\MaterialU\\12 semestre\\Trabajo_dirigido\\Diego\\codigo\\PointerNetwork\\RLtraining.py\u001b[0m in \u001b[0;36mtraining\u001b[1;34m(self, train_ds, eval_ds, attention_size, beam_width, lr, clip_norm, weight_decay, nepoch, save_model_file, freqEval)\u001b[0m\n\u001b[0;32m    333\u001b[0m                     \u001b[0mb_outp_len\u001b[0m \u001b[1;33m=\u001b[0m \u001b[0mb_outp_len\u001b[0m\u001b[1;33m.\u001b[0m\u001b[0mcuda\u001b[0m\u001b[1;33m(\u001b[0m\u001b[1;33m)\u001b[0m\u001b[1;33m\u001b[0m\u001b[1;33m\u001b[0m\u001b[0m\n\u001b[0;32m    334\u001b[0m \u001b[1;33m\u001b[0m\u001b[0m\n\u001b[1;32m--> 335\u001b[1;33m                 \u001b[0mactor_loss\u001b[0m\u001b[1;33m,\u001b[0m \u001b[0mcritic_loss\u001b[0m\u001b[1;33m,\u001b[0m \u001b[0mtour_length_mean\u001b[0m \u001b[1;33m=\u001b[0m \u001b[0mself\u001b[0m\u001b[1;33m.\u001b[0m\u001b[0mstep\u001b[0m\u001b[1;33m(\u001b[0m\u001b[0mb_inp\u001b[0m\u001b[1;33m,\u001b[0m \u001b[0mb_inp_len\u001b[0m\u001b[1;33m,\u001b[0m \u001b[0mb_outp_out\u001b[0m\u001b[1;33m,\u001b[0m \u001b[0mb_outp_len\u001b[0m\u001b[1;33m,\u001b[0m \u001b[0mclip_norm\u001b[0m\u001b[1;33m=\u001b[0m\u001b[0mclip_norm\u001b[0m\u001b[1;33m)\u001b[0m\u001b[1;33m\u001b[0m\u001b[1;33m\u001b[0m\u001b[0m\n\u001b[0m\u001b[0;32m    336\u001b[0m                 \u001b[0msteps\u001b[0m \u001b[1;33m+=\u001b[0m \u001b[1;36m1\u001b[0m\u001b[1;33m\u001b[0m\u001b[1;33m\u001b[0m\u001b[0m\n\u001b[0;32m    337\u001b[0m                 \u001b[0mactor_total_loss\u001b[0m \u001b[1;33m+=\u001b[0m \u001b[0mactor_loss\u001b[0m\u001b[1;33m\u001b[0m\u001b[1;33m\u001b[0m\u001b[0m\n",
            "\u001b[1;32mD:\\MaterialU\\12 semestre\\Trabajo_dirigido\\Diego\\codigo\\PointerNetwork\\RLtraining.py\u001b[0m in \u001b[0;36mstep\u001b[1;34m(self, batch_inp, batch_inp_len, batch_outp_out, batch_outp_len, clip_norm)\u001b[0m\n\u001b[0;32m    280\u001b[0m         \u001b[0mself\u001b[0m\u001b[1;33m.\u001b[0m\u001b[0moptimizer\u001b[0m\u001b[1;33m.\u001b[0m\u001b[0mzero_grad\u001b[0m\u001b[1;33m(\u001b[0m\u001b[1;33m)\u001b[0m\u001b[1;33m\u001b[0m\u001b[1;33m\u001b[0m\u001b[0m\n\u001b[0;32m    281\u001b[0m         \u001b[0mself\u001b[0m\u001b[1;33m.\u001b[0m\u001b[0moptim_critic\u001b[0m\u001b[1;33m.\u001b[0m\u001b[0mzero_grad\u001b[0m\u001b[1;33m(\u001b[0m\u001b[1;33m)\u001b[0m\u001b[1;33m\u001b[0m\u001b[1;33m\u001b[0m\u001b[0m\n\u001b[1;32m--> 282\u001b[1;33m         \u001b[0mactor_loss\u001b[0m\u001b[1;33m.\u001b[0m\u001b[0mbackward\u001b[0m\u001b[1;33m(\u001b[0m\u001b[0mretain_graph\u001b[0m\u001b[1;33m=\u001b[0m\u001b[1;32mTrue\u001b[0m\u001b[1;33m)\u001b[0m\u001b[1;33m\u001b[0m\u001b[1;33m\u001b[0m\u001b[0m\n\u001b[0m\u001b[0;32m    283\u001b[0m         \u001b[0mactor_loss_item\u001b[0m \u001b[1;33m=\u001b[0m \u001b[0mactor_loss\u001b[0m\u001b[1;33m.\u001b[0m\u001b[0mitem\u001b[0m\u001b[1;33m(\u001b[0m\u001b[1;33m)\u001b[0m\u001b[1;33m\u001b[0m\u001b[1;33m\u001b[0m\u001b[0m\n\u001b[0;32m    284\u001b[0m         \u001b[0mclip_grad_norm\u001b[0m\u001b[1;33m(\u001b[0m\u001b[0mself\u001b[0m\u001b[1;33m.\u001b[0m\u001b[0mmodel\u001b[0m\u001b[1;33m.\u001b[0m\u001b[0mparameters\u001b[0m\u001b[1;33m(\u001b[0m\u001b[1;33m)\u001b[0m\u001b[1;33m,\u001b[0m \u001b[0mclip_norm\u001b[0m\u001b[1;33m)\u001b[0m\u001b[1;33m\u001b[0m\u001b[1;33m\u001b[0m\u001b[0m\n",
            "\u001b[1;32mD:\\Anaconda\\envs\\torchenv\\lib\\site-packages\\torch\\tensor.py\u001b[0m in \u001b[0;36mbackward\u001b[1;34m(self, gradient, retain_graph, create_graph)\u001b[0m\n\u001b[0;32m    116\u001b[0m                 \u001b[0mproducts\u001b[0m\u001b[1;33m.\u001b[0m \u001b[0mDefaults\u001b[0m \u001b[0mto\u001b[0m\u001b[0;31m \u001b[0m\u001b[0;31m`\u001b[0m\u001b[0;31m`\u001b[0m\u001b[1;32mFalse\u001b[0m\u001b[0;31m`\u001b[0m\u001b[0;31m`\u001b[0m\u001b[1;33m.\u001b[0m\u001b[1;33m\u001b[0m\u001b[1;33m\u001b[0m\u001b[0m\n\u001b[0;32m    117\u001b[0m         \"\"\"\n\u001b[1;32m--> 118\u001b[1;33m         \u001b[0mtorch\u001b[0m\u001b[1;33m.\u001b[0m\u001b[0mautograd\u001b[0m\u001b[1;33m.\u001b[0m\u001b[0mbackward\u001b[0m\u001b[1;33m(\u001b[0m\u001b[0mself\u001b[0m\u001b[1;33m,\u001b[0m \u001b[0mgradient\u001b[0m\u001b[1;33m,\u001b[0m \u001b[0mretain_graph\u001b[0m\u001b[1;33m,\u001b[0m \u001b[0mcreate_graph\u001b[0m\u001b[1;33m)\u001b[0m\u001b[1;33m\u001b[0m\u001b[1;33m\u001b[0m\u001b[0m\n\u001b[0m\u001b[0;32m    119\u001b[0m \u001b[1;33m\u001b[0m\u001b[0m\n\u001b[0;32m    120\u001b[0m     \u001b[1;32mdef\u001b[0m \u001b[0mregister_hook\u001b[0m\u001b[1;33m(\u001b[0m\u001b[0mself\u001b[0m\u001b[1;33m,\u001b[0m \u001b[0mhook\u001b[0m\u001b[1;33m)\u001b[0m\u001b[1;33m:\u001b[0m\u001b[1;33m\u001b[0m\u001b[1;33m\u001b[0m\u001b[0m\n",
            "\u001b[1;32mD:\\Anaconda\\envs\\torchenv\\lib\\site-packages\\torch\\autograd\\__init__.py\u001b[0m in \u001b[0;36mbackward\u001b[1;34m(tensors, grad_tensors, retain_graph, create_graph, grad_variables)\u001b[0m\n\u001b[0;32m     91\u001b[0m     Variable._execution_engine.run_backward(\n\u001b[0;32m     92\u001b[0m         \u001b[0mtensors\u001b[0m\u001b[1;33m,\u001b[0m \u001b[0mgrad_tensors\u001b[0m\u001b[1;33m,\u001b[0m \u001b[0mretain_graph\u001b[0m\u001b[1;33m,\u001b[0m \u001b[0mcreate_graph\u001b[0m\u001b[1;33m,\u001b[0m\u001b[1;33m\u001b[0m\u001b[1;33m\u001b[0m\u001b[0m\n\u001b[1;32m---> 93\u001b[1;33m         allow_unreachable=True)  # allow_unreachable flag\n\u001b[0m\u001b[0;32m     94\u001b[0m \u001b[1;33m\u001b[0m\u001b[0m\n\u001b[0;32m     95\u001b[0m \u001b[1;33m\u001b[0m\u001b[0m\n",
            "\u001b[1;31mKeyboardInterrupt\u001b[0m: "
          ]
        }
      ]
    },
    {
      "cell_type": "code",
      "metadata": {
        "id": "CI3USv2xt7Lg",
        "colab_type": "code",
        "colab": {}
      },
      "source": [
        ""
      ],
      "execution_count": null,
      "outputs": []
    }
  ]
}