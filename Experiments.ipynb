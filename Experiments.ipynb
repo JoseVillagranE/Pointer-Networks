{
 "cells": [
  {
   "cell_type": "code",
   "execution_count": 1,
   "metadata": {},
   "outputs": [],
   "source": [
    "%matplotlib inline\n",
    "import torch\n",
    "import matplotlib.pyplot as plt"
   ]
  },
  {
   "cell_type": "code",
   "execution_count": 2,
   "metadata": {},
   "outputs": [],
   "source": [
    "from dataset import CHDataset\n",
    "from convex_hull import training, eval_one_example, eval_model, PlotLossCurve\n",
    "from pointer_network import PointerNet, PointerNetLoss\n",
    "from TSPDataset import TSPDataset"
   ]
  },
  {
   "cell_type": "code",
   "execution_count": 3,
   "metadata": {},
   "outputs": [
    {
     "name": "stdout",
     "output_type": "stream",
     "text": [
      "Train data size: 20000\n",
      "Eval data size: 1000\n"
     ]
    }
   ],
   "source": [
    "train_filename=\"./data/convex_hull_50_train.txt\" \n",
    "val_filename = \"./data/convex_hull_50_test.txt\"\n",
    "\n",
    "max_in_seq_len=50\n",
    "max_out_seq_len=11\n",
    "num_layers = 1\n",
    "rnn_hidden_size = 32\n",
    "\n",
    "model = PointerNet(\"LSTM\", True, num_layers, 2, rnn_hidden_size, 0.0)\n",
    "\n",
    "train_ds = CHDataset(train_filename, max_in_seq_len, max_out_seq_len, 2e4)\n",
    "eval_ds = CHDataset(val_filename, max_in_seq_len, max_out_seq_len, 1e3)\n",
    "\n",
    "print(\"Train data size: {}\".format(len(train_ds)))\n",
    "print(\"Eval data size: {}\".format(len(eval_ds)))"
   ]
  },
  {
   "cell_type": "code",
   "execution_count": 4,
   "metadata": {},
   "outputs": [
    {
     "name": "stdout",
     "output_type": "stream",
     "text": [
      "True\n"
     ]
    }
   ],
   "source": [
    "cudaAvailable = torch.cuda.is_available()\n",
    "print(cudaAvailable)"
   ]
  },
  {
   "cell_type": "code",
   "execution_count": 5,
   "metadata": {},
   "outputs": [
    {
     "name": "stderr",
     "output_type": "stream",
     "text": [
      "D:\\matricula u chile 2015\\12 semestre\\Trabajo_dirigido\\Diego\\codigo\\PointerNetwork\\convex_hull.py:179: UserWarning: torch.nn.utils.clip_grad_norm is now deprecated in favor of torch.nn.utils.clip_grad_norm_.\n",
      "  clip_grad_norm(model.parameters(), clip_norm)\n"
     ]
    },
    {
     "name": "stdout",
     "output_type": "stream",
     "text": [
      "Epoch : 0, loss 1.2182404302954675\n",
      "Epoch: 0, Eval Loss 0.847038919955492\n",
      "Epoch : 1, loss 0.7536873981356621\n",
      "Epoch : 2, loss 0.6485088189959526\n",
      "Epoch : 3, loss 0.5945986782364547\n",
      "Epoch : 4, loss 0.562306798107177\n",
      "Epoch : 5, loss 0.5397270621664823\n",
      "Epoch: 5, Eval Loss 0.5331619176417589\n",
      "Epoch : 6, loss 0.5234544403932989\n",
      "Epoch : 7, loss 0.5105805751189589\n",
      "Epoch : 8, loss 0.49935362021774055\n",
      "Epoch : 9, loss 0.4892207261778414\n",
      "Epoch : 10, loss 0.4808284835468978\n",
      "Epoch: 10, Eval Loss 0.48039661985635757\n",
      "Epoch : 11, loss 0.4738201278757304\n",
      "Epoch : 12, loss 0.46737350049242377\n",
      "Epoch : 13, loss 0.4614636353302747\n",
      "Epoch : 14, loss 0.45638306415714325\n",
      "Epoch : 15, loss 0.45159429302960635\n",
      "Epoch: 15, Eval Loss 0.4519965361952782\n",
      "Epoch : 16, loss 0.4470672408375889\n",
      "Epoch : 17, loss 0.4431911987382919\n",
      "Epoch : 18, loss 0.43981190046072005\n",
      "Epoch : 19, loss 0.4368873704716563\n",
      "Epoch : 20, loss 0.4341901934798807\n",
      "Epoch: 20, Eval Loss 0.4359943869113922\n",
      "Epoch : 21, loss 0.43176953313201666\n",
      "Epoch : 22, loss 0.4294836932364851\n",
      "Epoch : 23, loss 0.4274387739356607\n",
      "Epoch : 24, loss 0.42536472373716533\n",
      "Epoch : 25, loss 0.42352728792726996\n",
      "Epoch: 25, Eval Loss 0.42601712131500247\n",
      "Epoch : 26, loss 0.4217539263639599\n",
      "Epoch : 27, loss 0.42010099134147166\n",
      "Epoch : 28, loss 0.41860588164702056\n",
      "Epoch : 29, loss 0.4171682669941336\n",
      "Training of Pointer Network takes: 14564.80404496193\n"
     ]
    }
   ],
   "source": [
    "TrainingLoss, EvalLoss = training(model, train_ds, eval_ds, cudaAvailable, nepoch=30, freqEval=5)"
   ]
  },
  {
   "cell_type": "code",
   "execution_count": 7,
   "metadata": {},
   "outputs": [
    {
     "name": "stdout",
     "output_type": "stream",
     "text": [
      "Training of Pointer Networks takes: 04:02:44.80\n"
     ]
    }
   ],
   "source": [
    "hours, rem = divmod(14564.804045, 3600)\n",
    "minutes, seconds = divmod(rem, 60)\n",
    "\n",
    "print(\"Training of Pointer Networks takes: {:0>2}:{:0>2}:{:05.2f}\".format(int(hours), int(minutes), seconds))"
   ]
  },
  {
   "cell_type": "code",
   "execution_count": 6,
   "metadata": {},
   "outputs": [
    {
     "data": {
      "text/plain": [
       "<All keys matched successfully>"
      ]
     },
     "execution_count": 6,
     "metadata": {},
     "output_type": "execute_result"
    }
   ],
   "source": [
    "model.load_state_dict(torch.load(\"PointerModel.pt\"))"
   ]
  },
  {
   "cell_type": "code",
   "execution_count": 8,
   "metadata": {},
   "outputs": [
    {
     "name": "stdout",
     "output_type": "stream",
     "text": [
      "The Accuracy of the model is: 0.42635\n"
     ]
    }
   ],
   "source": [
    "eval_model(model, train_ds, cudaAvailable)"
   ]
  },
  {
   "cell_type": "code",
   "execution_count": 9,
   "metadata": {},
   "outputs": [
    {
     "name": "stdout",
     "output_type": "stream",
     "text": [
      "The Accuracy of the model is: 0.421\n"
     ]
    }
   ],
   "source": [
    "eval_model(model, eval_ds, cudaAvailable)"
   ]
  },
  {
   "cell_type": "code",
   "execution_count": 11,
   "metadata": {},
   "outputs": [
    {
     "name": "stdout",
     "output_type": "stream",
     "text": [
      "(51, 2)\n"
     ]
    }
   ],
   "source": [
    "example = train_ds.__getitem__(0)\n",
    "print(example[0].shape)"
   ]
  },
  {
   "cell_type": "code",
   "execution_count": 10,
   "metadata": {},
   "outputs": [
    {
     "data": {
      "image/png": "[encoded data removed]",
      "text/plain": [
       "<Figure size 432x288 with 1 Axes>"
      ]
     },
     "metadata": {
      "needs_background": "light"
     },
     "output_type": "display_data"
    }
   ],
   "source": [
    "PlotLossCurve(TrainingLoss, \"Training_Loss\", shape = (10, 10))"
   ]
  },
  {
   "cell_type": "code",
   "execution_count": 11,
   "metadata": {},
   "outputs": [
    {
     "data": {
      "image/png": "[encoded data removed]",
      "text/plain": [
       "<Figure size 432x288 with 1 Axes>"
      ]
     },
     "metadata": {
      "needs_background": "light"
     },
     "output_type": "display_data"
    }
   ],
   "source": [
    "PlotLossCurve(EvalLoss, \"Evaluation Loss\", shape=(10, 10))"
   ]
  },
  {
   "cell_type": "markdown",
   "metadata": {},
   "source": [
    "## RL training"
   ]
  },
  {
   "cell_type": "code",
   "execution_count": 3,
   "metadata": {},
   "outputs": [],
   "source": [
    "from RLtraining import NeuronalOptm"
   ]
  },
  {
   "cell_type": "code",
   "execution_count": 4,
   "metadata": {},
   "outputs": [],
   "source": [
    "seq_len = 20\n",
    "num_layers = 1 # Se procesa con sola una celula por coordenada. \n",
    "input_lenght = 2 \n",
    "rnn_hidden_size = 128\n",
    "rnn_type = 'LSTM'\n",
    "bidirectional = False\n",
    "hidden_dim_critic = rnn_hidden_size\n",
    "process_block_iter = 3\n",
    "inp_len_seq = seq_len\n",
    "lr = 1e-3\n",
    "C = 1\n",
    "batch_size = 128\n",
    "n_epoch = 50\n",
    "embedding_dim = 128 #d-dimensional embedding dim\n",
    "embedding_dim_critic = embedding_dim\n",
    "\n",
    "save_model_file=\"RLPointerModel_TSP20.pt\""
   ]
  },
  {
   "cell_type": "code",
   "execution_count": 5,
   "metadata": {},
   "outputs": [
    {
     "name": "stdout",
     "output_type": "stream",
     "text": [
      "Train data size: 100000\n",
      "Eval data size: 10000\n"
     ]
    }
   ],
   "source": [
    "train_filename=\"./CH_TSP_data/tsp_all_len20.txt\" \n",
    "val_filename = \"./CH_TSP_data/tsp_20_test.txt\"\n",
    "\n",
    "train_ds = TSPDataset(train_filename, seq_len, lineCountLimit=-1)\n",
    "eval_ds = TSPDataset(val_filename, seq_len, lineCountLimit=-1)\n",
    "    \n",
    "print(\"Train data size: {}\".format(len(train_ds)))\n",
    "print(\"Eval data size: {}\".format(len(eval_ds)))"
   ]
  },
  {
   "cell_type": "code",
   "execution_count": 6,
   "metadata": {},
   "outputs": [],
   "source": [
    "trainer = NeuronalOptm(input_lenght, rnn_type, bidirectional, num_layers, rnn_hidden_size, \n",
    "                           embedding_dim, hidden_dim_critic, process_block_iter, inp_len_seq, lr, \n",
    "                           C=C, batch_size=batch_size)"
   ]
  },
  {
   "cell_type": "code",
   "execution_count": 7,
   "metadata": {},
   "outputs": [
    {
     "ename": "KeyboardInterrupt",
     "evalue": "",
     "output_type": "error",
     "traceback": [
      "\u001b[1;31m---------------------------------------------------------------------------\u001b[0m",
      "\u001b[1;31mKeyboardInterrupt\u001b[0m                         Traceback (most recent call last)",
      "\u001b[1;32m<ipython-input-7-48c93f17daaf>\u001b[0m in \u001b[0;36m<module>\u001b[1;34m\u001b[0m\n\u001b[0;32m      1\u001b[0m Actor_Training_Loss, Critic_Training_Loss, Tour_training_mean = trainer.training(train_ds, eval_ds,\n\u001b[0;32m      2\u001b[0m                                                                                      \u001b[0msave_model_file\u001b[0m\u001b[1;33m=\u001b[0m\u001b[0msave_model_file\u001b[0m\u001b[1;33m,\u001b[0m\u001b[1;33m\u001b[0m\u001b[1;33m\u001b[0m\u001b[0m\n\u001b[1;32m----> 3\u001b[1;33m                                                                                      nepoch=n_epoch)\n\u001b[0m",
      "\u001b[1;32mD:\\MaterialU\\12 semestre\\Trabajo_dirigido\\Diego\\codigo\\PointerNetwork\\RLtraining.py\u001b[0m in \u001b[0;36mtraining\u001b[1;34m(self, train_ds, eval_ds, attention_size, beam_width, lr, clip_norm, weight_decay, nepoch, save_model_file, freqEval)\u001b[0m\n\u001b[0;32m    333\u001b[0m                     \u001b[0mb_outp_len\u001b[0m \u001b[1;33m=\u001b[0m \u001b[0mb_outp_len\u001b[0m\u001b[1;33m.\u001b[0m\u001b[0mcuda\u001b[0m\u001b[1;33m(\u001b[0m\u001b[1;33m)\u001b[0m\u001b[1;33m\u001b[0m\u001b[1;33m\u001b[0m\u001b[0m\n\u001b[0;32m    334\u001b[0m \u001b[1;33m\u001b[0m\u001b[0m\n\u001b[1;32m--> 335\u001b[1;33m                 \u001b[0mactor_loss\u001b[0m\u001b[1;33m,\u001b[0m \u001b[0mcritic_loss\u001b[0m\u001b[1;33m,\u001b[0m \u001b[0mtour_length_mean\u001b[0m \u001b[1;33m=\u001b[0m \u001b[0mself\u001b[0m\u001b[1;33m.\u001b[0m\u001b[0mstep\u001b[0m\u001b[1;33m(\u001b[0m\u001b[0mb_inp\u001b[0m\u001b[1;33m,\u001b[0m \u001b[0mb_inp_len\u001b[0m\u001b[1;33m,\u001b[0m \u001b[0mb_outp_out\u001b[0m\u001b[1;33m,\u001b[0m \u001b[0mb_outp_len\u001b[0m\u001b[1;33m,\u001b[0m \u001b[0mclip_norm\u001b[0m\u001b[1;33m=\u001b[0m\u001b[0mclip_norm\u001b[0m\u001b[1;33m)\u001b[0m\u001b[1;33m\u001b[0m\u001b[1;33m\u001b[0m\u001b[0m\n\u001b[0m\u001b[0;32m    336\u001b[0m                 \u001b[0msteps\u001b[0m \u001b[1;33m+=\u001b[0m \u001b[1;36m1\u001b[0m\u001b[1;33m\u001b[0m\u001b[1;33m\u001b[0m\u001b[0m\n\u001b[0;32m    337\u001b[0m                 \u001b[0mactor_total_loss\u001b[0m \u001b[1;33m+=\u001b[0m \u001b[0mactor_loss\u001b[0m\u001b[1;33m\u001b[0m\u001b[1;33m\u001b[0m\u001b[0m\n",
      "\u001b[1;32mD:\\MaterialU\\12 semestre\\Trabajo_dirigido\\Diego\\codigo\\PointerNetwork\\RLtraining.py\u001b[0m in \u001b[0;36mstep\u001b[1;34m(self, batch_inp, batch_inp_len, batch_outp_out, batch_outp_len, clip_norm)\u001b[0m\n\u001b[0;32m    280\u001b[0m         \u001b[0mself\u001b[0m\u001b[1;33m.\u001b[0m\u001b[0moptimizer\u001b[0m\u001b[1;33m.\u001b[0m\u001b[0mzero_grad\u001b[0m\u001b[1;33m(\u001b[0m\u001b[1;33m)\u001b[0m\u001b[1;33m\u001b[0m\u001b[1;33m\u001b[0m\u001b[0m\n\u001b[0;32m    281\u001b[0m         \u001b[0mself\u001b[0m\u001b[1;33m.\u001b[0m\u001b[0moptim_critic\u001b[0m\u001b[1;33m.\u001b[0m\u001b[0mzero_grad\u001b[0m\u001b[1;33m(\u001b[0m\u001b[1;33m)\u001b[0m\u001b[1;33m\u001b[0m\u001b[1;33m\u001b[0m\u001b[0m\n\u001b[1;32m--> 282\u001b[1;33m         \u001b[0mactor_loss\u001b[0m\u001b[1;33m.\u001b[0m\u001b[0mbackward\u001b[0m\u001b[1;33m(\u001b[0m\u001b[0mretain_graph\u001b[0m\u001b[1;33m=\u001b[0m\u001b[1;32mTrue\u001b[0m\u001b[1;33m)\u001b[0m\u001b[1;33m\u001b[0m\u001b[1;33m\u001b[0m\u001b[0m\n\u001b[0m\u001b[0;32m    283\u001b[0m         \u001b[0mactor_loss_item\u001b[0m \u001b[1;33m=\u001b[0m \u001b[0mactor_loss\u001b[0m\u001b[1;33m.\u001b[0m\u001b[0mitem\u001b[0m\u001b[1;33m(\u001b[0m\u001b[1;33m)\u001b[0m\u001b[1;33m\u001b[0m\u001b[1;33m\u001b[0m\u001b[0m\n\u001b[0;32m    284\u001b[0m         \u001b[0mclip_grad_norm\u001b[0m\u001b[1;33m(\u001b[0m\u001b[0mself\u001b[0m\u001b[1;33m.\u001b[0m\u001b[0mmodel\u001b[0m\u001b[1;33m.\u001b[0m\u001b[0mparameters\u001b[0m\u001b[1;33m(\u001b[0m\u001b[1;33m)\u001b[0m\u001b[1;33m,\u001b[0m \u001b[0mclip_norm\u001b[0m\u001b[1;33m)\u001b[0m\u001b[1;33m\u001b[0m\u001b[1;33m\u001b[0m\u001b[0m\n",
      "\u001b[1;32mD:\\Anaconda\\envs\\torchenv\\lib\\site-packages\\torch\\tensor.py\u001b[0m in \u001b[0;36mbackward\u001b[1;34m(self, gradient, retain_graph, create_graph)\u001b[0m\n\u001b[0;32m    116\u001b[0m                 \u001b[0mproducts\u001b[0m\u001b[1;33m.\u001b[0m \u001b[0mDefaults\u001b[0m \u001b[0mto\u001b[0m\u001b[0;31m \u001b[0m\u001b[0;31m`\u001b[0m\u001b[0;31m`\u001b[0m\u001b[1;32mFalse\u001b[0m\u001b[0;31m`\u001b[0m\u001b[0;31m`\u001b[0m\u001b[1;33m.\u001b[0m\u001b[1;33m\u001b[0m\u001b[1;33m\u001b[0m\u001b[0m\n\u001b[0;32m    117\u001b[0m         \"\"\"\n\u001b[1;32m--> 118\u001b[1;33m         \u001b[0mtorch\u001b[0m\u001b[1;33m.\u001b[0m\u001b[0mautograd\u001b[0m\u001b[1;33m.\u001b[0m\u001b[0mbackward\u001b[0m\u001b[1;33m(\u001b[0m\u001b[0mself\u001b[0m\u001b[1;33m,\u001b[0m \u001b[0mgradient\u001b[0m\u001b[1;33m,\u001b[0m \u001b[0mretain_graph\u001b[0m\u001b[1;33m,\u001b[0m \u001b[0mcreate_graph\u001b[0m\u001b[1;33m)\u001b[0m\u001b[1;33m\u001b[0m\u001b[1;33m\u001b[0m\u001b[0m\n\u001b[0m\u001b[0;32m    119\u001b[0m \u001b[1;33m\u001b[0m\u001b[0m\n\u001b[0;32m    120\u001b[0m     \u001b[1;32mdef\u001b[0m \u001b[0mregister_hook\u001b[0m\u001b[1;33m(\u001b[0m\u001b[0mself\u001b[0m\u001b[1;33m,\u001b[0m \u001b[0mhook\u001b[0m\u001b[1;33m)\u001b[0m\u001b[1;33m:\u001b[0m\u001b[1;33m\u001b[0m\u001b[1;33m\u001b[0m\u001b[0m\n",
      "\u001b[1;32mD:\\Anaconda\\envs\\torchenv\\lib\\site-packages\\torch\\autograd\\__init__.py\u001b[0m in \u001b[0;36mbackward\u001b[1;34m(tensors, grad_tensors, retain_graph, create_graph, grad_variables)\u001b[0m\n\u001b[0;32m     91\u001b[0m     Variable._execution_engine.run_backward(\n\u001b[0;32m     92\u001b[0m         \u001b[0mtensors\u001b[0m\u001b[1;33m,\u001b[0m \u001b[0mgrad_tensors\u001b[0m\u001b[1;33m,\u001b[0m \u001b[0mretain_graph\u001b[0m\u001b[1;33m,\u001b[0m \u001b[0mcreate_graph\u001b[0m\u001b[1;33m,\u001b[0m\u001b[1;33m\u001b[0m\u001b[1;33m\u001b[0m\u001b[0m\n\u001b[1;32m---> 93\u001b[1;33m         allow_unreachable=True)  # allow_unreachable flag\n\u001b[0m\u001b[0;32m     94\u001b[0m \u001b[1;33m\u001b[0m\u001b[0m\n\u001b[0;32m     95\u001b[0m \u001b[1;33m\u001b[0m\u001b[0m\n",
      "\u001b[1;31mKeyboardInterrupt\u001b[0m: "
     ]
    }
   ],
   "source": [
    "Actor_Training_Loss, Critic_Training_Loss, Tour_training_mean = trainer.training(train_ds, eval_ds,\n",
    "                                                                                     save_model_file=save_model_file,\n",
    "                                                                                     nepoch=n_epoch)"
   ]
  },
  {
   "cell_type": "code",
   "execution_count": null,
   "metadata": {},
   "outputs": [],
   "source": []
  }
 ],
 "metadata": {
  "kernelspec": {
   "display_name": "Python 3",
   "language": "python",
   "name": "python3"
  },
  "language_info": {
   "codemirror_mode": {
    "name": "ipython",
    "version": 3
   },
   "file_extension": ".py",
   "mimetype": "text/x-python",
   "name": "python",
   "nbconvert_exporter": "python",
   "pygments_lexer": "ipython3",
   "version": "3.7.4"
  }
 },
 "nbformat": 4,
 "nbformat_minor": 2
}
